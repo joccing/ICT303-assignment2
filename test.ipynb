{
 "cells": [
  {
   "cell_type": "code",
   "execution_count": null,
   "metadata": {},
   "outputs": [],
   "source": [
    "def is_running_in_colab():\n",
    "    try:\n",
    "        from google.colab import _ipython as ip\n",
    "        return True\n",
    "    except ImportError:\n",
    "        return False\n",
    "\n",
    "try:\n",
    "  if is_running_in_colab():\n",
    "    print(\"Running in Google Colab\")\n",
    "    from google.colab import drive\n",
    "    drive.mount('/content/gdrive')\n",
    "  else:\n",
    "    print(\"Running in Jupyter or VSCode Notebook\")\n",
    "\n",
    "  import requests\n",
    "  url = 'https://raw.githubusercontent.com/joccing/ICT303-assignment2/master/config.py'\n",
    "  r = requests.get(url, allow_redirects=True)\n",
    "  open('config.py', 'wb').write(r.content)\n",
    "\n",
    "except ModuleNotFoundError:\n",
    "  pass\n",
    "\n",
    "# Path to Kaggle data folder\n",
    "BASE_PATH = F\"/content/gdrive/My Drive/Teaching/Kaplan/Lessons/Assignment2/kaggle_dog/\"\n",
    "# Name of zip files\n",
    "zipfiles = ['train.zip', 'test.zip', 'labels.csv.zip']\n",
    "\n",
    "from config import *\n",
    "config_data(BASE_PATH,zipfiles)"
   ]
  },
  {
   "cell_type": "code",
   "execution_count": null,
   "metadata": {},
   "outputs": [],
   "source": [
    "try:\n",
    "    import pandas as pd\n",
    "except ImportError:\n",
    "    # If pandas is not installed, install it\n",
    "    install_package('pandas')\n",
    "    import pandas as pd\n",
    "\n",
    "train_data = pd.read_csv('data/train.csv')\n",
    "test_data  = pd.read_csv('data/test.csv')\n",
    "assert train_data.shape == (1460,81)\n",
    "assert test_data.shape == (1459, 80)\n",
    "print('Loaded and verified data!')"
   ]
  },
  {
   "cell_type": "code",
   "execution_count": null,
   "metadata": {},
   "outputs": [],
   "source": []
  }
 ],
 "metadata": {
  "kernelspec": {
   "display_name": "Python 3",
   "language": "python",
   "name": "python3"
  },
  "language_info": {
   "codemirror_mode": {
    "name": "ipython",
    "version": 3
   },
   "file_extension": ".py",
   "mimetype": "text/x-python",
   "name": "python",
   "nbconvert_exporter": "python",
   "pygments_lexer": "ipython3",
   "version": "3.11.4"
  },
  "orig_nbformat": 4
 },
 "nbformat": 4,
 "nbformat_minor": 2
}
