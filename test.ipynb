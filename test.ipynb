{
 "cells": [
  {
   "cell_type": "code",
   "execution_count": null,
   "metadata": {},
   "outputs": [],
   "source": [
    "import importlib\n",
    "\n",
    "def is_running_in_colab():\n",
    "    try:\n",
    "        from google.colab import _ipython as ip\n",
    "        return True\n",
    "    except ImportError:\n",
    "        return False\n",
    "\n",
    "try:\n",
    "  if is_running_in_colab():\n",
    "    print(\"Running in Google Colab\")\n",
    "    from google.colab import drive\n",
    "    drive.mount('/content/gdrive',force_remount=True)\n",
    "  else:\n",
    "    print(\"Running in Jupyter or VSCode\")\n",
    "\n",
    "  import requests\n",
    "  url = 'https://raw.githubusercontent.com/joccing/ICT303-assignment2/master/config.py'\n",
    "\n",
    "  headers = {\n",
    "    'Cache-Control': 'no-cache',\n",
    "    'Pragma': 'no-cache',\n",
    "    }\n",
    "\n",
    "  r = requests.get(url, allow_redirects=True, headers=headers)\n",
    "  open('config.py', 'wb').write(r.content)\n",
    "\n",
    "except ModuleNotFoundError:\n",
    "  pass\n",
    "\n",
    "# PLEASE MODIFY BASE PATH, call the folder 'kaggle_dog' as below\n",
    "BASE_PATH = F\"/content/gdrive/My Drive/path/to/your/assignment/kaggle_dog/\"\n",
    "# Name of zip files that you put into the path above\n",
    "zipfiles = ['dog-breed-identification.zip']\n",
    "\n",
    "from config import *\n",
    "importlib.reload(sys.modules['config'])\n",
    "from config import *\n",
    "\n",
    "DOWNLOADED = config_data(BASE_PATH,zipfiles, ['train','test','labels.csv'])\n",
    "assert DOWNLOADED == 20581 or DOWNLOADED < 0\n",
    "assert check_all(BASE_PATH, ['train','test','labels.csv']) == True"
   ]
  },
  {
   "attachments": {},
   "cell_type": "markdown",
   "metadata": {},
   "source": [
    "The above steps will uncompress the data into your Google Colab mounted version of your Google Drive folder.  I say 'version' because\n",
    "they are two separate systems and what you see on Google Colab may not be what you see on Google Drive.  For large amount of files, this\n",
    "will take some time to sync.  **If** you happen to close your Google Colab notebook before this syncing is complete, *all* the files\n",
    "in progress of being synced will end up in your Google Drive bin.\n",
    "\n",
    "If you want to force the sync, you can run the code below in another cell, but this takes **very very** long (given we have 20k+ files, all \n",
    "traveling through the internet).  On my laptop, it took **around 1.5 hours**.  There seems to be no way to track its progress as of this time as \n",
    "Google Colab and Google Drive are two separate independent systems."
   ]
  },
  {
   "cell_type": "code",
   "execution_count": null,
   "metadata": {},
   "outputs": [],
   "source": [
    "if is_running_in_colab():\n",
    "    print('Syncing Google Colab and Google Drive..')\n",
    "    from google.colab import drive\n",
    "    drive.flush_and_unmount()\n",
    "    print('Done.')"
   ]
  }
 ],
 "metadata": {
  "kernelspec": {
   "display_name": "Python 3",
   "language": "python",
   "name": "python3"
  },
  "language_info": {
   "codemirror_mode": {
    "name": "ipython",
    "version": 3
   },
   "file_extension": ".py",
   "mimetype": "text/x-python",
   "name": "python",
   "nbconvert_exporter": "python",
   "pygments_lexer": "ipython3",
   "version": "3.11.4"
  },
  "orig_nbformat": 4
 },
 "nbformat": 4,
 "nbformat_minor": 2
}
