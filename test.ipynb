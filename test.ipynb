{
 "cells": [
  {
   "cell_type": "code",
   "execution_count": null,
   "metadata": {},
   "outputs": [],
   "source": [
    "def is_running_in_colab():\n",
    "    try:\n",
    "        from google.colab import _ipython as ip\n",
    "        return True\n",
    "    except ImportError:\n",
    "        return False\n",
    "\n",
    "try:\n",
    "  if is_running_in_colab():\n",
    "    print(\"Running in Google Colab\")\n",
    "    from google.colab import drive\n",
    "    drive.mount('/content/gdrive',force_remount=True)\n",
    "  else:\n",
    "    print(\"Running in Jupyter or VSCode\")\n",
    "\n",
    "  import requests\n",
    "  url = 'https://raw.githubusercontent.com/joccing/ICT303-assignment2/master/config.py'\n",
    "\n",
    "  headers = {\n",
    "    'Cache-Control': 'no-cache',\n",
    "    'Pragma': 'no-cache',\n",
    "    }\n",
    "\n",
    "  r = requests.get(url, allow_redirects=True, headers=headers)\n",
    "  open('config.py', 'wb').write(r.content)\n",
    "\n",
    "except ModuleNotFoundError:\n",
    "  pass\n",
    "\n",
    "# PLEASE MODIFY BASE PATH\n",
    "BASE_PATH = F\"/content/gdrive/My Drive/path/to/your/assignment/\"\n",
    "# Name of zip files\n",
    "zipfiles = ['dog-breed-identification.zip']\n",
    "\n",
    "from config import *\n",
    "importlib.reload(sys.modules['config'])\n",
    "from config import *\n",
    "\n",
    "DOWNLOADED = config_data(BASE_PATH,zipfiles, ['train','test','labels.csv'])\n",
    "assert DOWNLOADED == 20581 or DOWNLOADED < 0\n",
    "assert check_all(BASE_PATH, ['train','test','labels.csv']) == True"
   ]
  }
 ],
 "metadata": {
  "kernelspec": {
   "display_name": "Python 3",
   "language": "python",
   "name": "python3"
  },
  "language_info": {
   "codemirror_mode": {
    "name": "ipython",
    "version": 3
   },
   "file_extension": ".py",
   "mimetype": "text/x-python",
   "name": "python",
   "nbconvert_exporter": "python",
   "pygments_lexer": "ipython3",
   "version": "3.11.4"
  },
  "orig_nbformat": 4
 },
 "nbformat": 4,
 "nbformat_minor": 2
}
