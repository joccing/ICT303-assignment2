{
 "cells": [
  {
   "cell_type": "code",
   "execution_count": null,
   "metadata": {},
   "outputs": [],
   "source": [
    "def is_running_in_colab():\n",
    "    try:\n",
    "        from google.colab import _ipython as ip\n",
    "        return True\n",
    "    except ImportError:\n",
    "        return False\n",
    "\n",
    "def is_running_in_jupyter():\n",
    "    try:\n",
    "        shell = get_ipython().__class__.__name__\n",
    "        if shell == 'ZMQInteractiveShell':\n",
    "            return True\n",
    "        else:\n",
    "            return False\n",
    "    except NameError:\n",
    "        return False\n",
    "\n",
    "def is_running_in_vscode():\n",
    "    return 'VSCODE_PID' in os.environ\n",
    "\n",
    "try:\n",
    "  if is_running_in_colab():\n",
    "    print(\"Running in Google Colab\")\n",
    "    from google.colab import drive\n",
    "    drive.mount('/content/gdrive')\n",
    "    \n",
    "  elif is_running_in_jupyter():\n",
    "    if is_running_in_vscode():\n",
    "      print(\"Running in Jupyter Notebook within VSCode\")\n",
    "    else:\n",
    "      print(\"Running in Jupyter Notebook (not in VSCode)\")\n",
    "\n",
    "  import requests\n",
    "  url = 'https://raw.githubusercontent.com/joccing/ICT303-assignment2/master/config.py'\n",
    "  r = requests.get(url, allow_redirects=True)\n",
    "  open('config.py', 'wb').write(r.content)\n",
    "\n",
    "except ModuleNotFoundError:\n",
    "  pass\n",
    "\n",
    "# Path to Kaggle data folder\n",
    "BASE_PATH = F\"/content/gdrive/My Drive/Teaching/Kaplan/Lessons/Assignment2/\"\n",
    "# Name of zip files\n",
    "zipfiles = ['dog-breed-identification.zip']\n",
    "\n",
    "DOWNLOADED = 0\n",
    "if DOWNLOADED == 0:\n",
    "  from config import *\n",
    "  DOWNLOADED = config_data(BASE_PATH,zipfiles)\n",
    "  assert DOWNLOADED == 20581"
   ]
  }
 ],
 "metadata": {
  "kernelspec": {
   "display_name": "Python 3",
   "language": "python",
   "name": "python3"
  },
  "language_info": {
   "codemirror_mode": {
    "name": "ipython",
    "version": 3
   },
   "file_extension": ".py",
   "mimetype": "text/x-python",
   "name": "python",
   "nbconvert_exporter": "python",
   "pygments_lexer": "ipython3",
   "version": "3.11.4"
  },
  "orig_nbformat": 4
 },
 "nbformat": 4,
 "nbformat_minor": 2
}
